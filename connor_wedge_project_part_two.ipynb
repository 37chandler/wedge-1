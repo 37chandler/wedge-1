{
 "cells": [
  {
   "cell_type": "code",
   "execution_count": 1,
   "id": "2499aaa8",
   "metadata": {},
   "outputs": [],
   "source": [
    "# Import modules\n",
    "\n",
    "from google.cloud import bigquery\n",
    "from google.oauth2 import service_account\n",
    "\n",
    "import pandas as pd\n",
    "import pandas_gbq\n",
    "\n",
    "import os"
   ]
  },
  {
   "cell_type": "code",
   "execution_count": 2,
   "id": "8bc95365",
   "metadata": {},
   "outputs": [],
   "source": [
    "# Establish credentials and connection\n",
    "\n",
    "service_path = \"/Users/Owner/Google Drive/MSBA/Classes/bmkt_670_applied_data_analytics/gbq_key/\"\n",
    "service_file = 'evident-catcher-327918-fa366e7e71f5.json'\n",
    "gbq_proj_id = 'evident-catcher-327918'\n",
    "gbq_dataset_id = 'wedge_master'\n",
    "\n",
    "private_key = service_path + service_file\n",
    "\n",
    "credentials = service_account.Credentials.from_service_account_file(service_path + service_file)\n",
    "\n",
    "client = bigquery.Client(credentials = credentials, project=gbq_proj_id)"
   ]
  },
  {
   "cell_type": "code",
   "execution_count": 3,
   "id": "3cacd60e",
   "metadata": {},
   "outputs": [],
   "source": [
    "# Query all distinct card numbers that are not 3\n",
    "\n",
    "query_cards = (\n",
    "    \"SELECT distinct card_no \"\n",
    "    \"FROM `evident-catcher-327918.wedge_master.transArchive*` \"\n",
    "    \"WHERE card_no !=3\"\n",
    ")"
   ]
  },
  {
   "cell_type": "code",
   "execution_count": 4,
   "id": "d10a11ff",
   "metadata": {},
   "outputs": [],
   "source": [
    "# Query results directly to pandas data frame\n",
    "# Reference: https://cloud.google.com/bigquery/docs/bigquery-storage-python-pandas\n",
    "\n",
    "df_cards = (\n",
    "    client.query(query_cards)\n",
    "    .result()\n",
    "    .to_dataframe(\n",
    "        create_bqstorage_client=True,\n",
    "    )\n",
    ")"
   ]
  },
  {
   "cell_type": "code",
   "execution_count": 7,
   "id": "4bef8707",
   "metadata": {},
   "outputs": [
    {
     "data": {
      "text/plain": [
       "27208"
      ]
     },
     "execution_count": 7,
     "metadata": {},
     "output_type": "execute_result"
    }
   ],
   "source": [
    "# Check to see if it worked\n",
    "\n",
    "len(df_cards)\n",
    "# df_cards.head()"
   ]
  },
  {
   "cell_type": "code",
   "execution_count": 8,
   "id": "8b8432f9",
   "metadata": {},
   "outputs": [],
   "source": [
    "# Take random sample of 1% of cards and create new data frame\n",
    "\n",
    "card_sample = df_cards.sample(frac=.01)"
   ]
  },
  {
   "cell_type": "code",
   "execution_count": 9,
   "id": "856715d5",
   "metadata": {},
   "outputs": [
    {
     "name": "stderr",
     "output_type": "stream",
     "text": [
      "1it [00:03,  3.37s/it]\n"
     ]
    }
   ],
   "source": [
    "# Upload card_sample table to GBQ\n",
    "\n",
    "table_full_name = \".\".join([gbq_proj_id,gbq_dataset_id,\"card_sample\"])\n",
    "\n",
    "card_sample.to_gbq(destination_table = table_full_name,\n",
    "                   if_exists = 'replace', \n",
    "                   project_id = gbq_proj_id, \n",
    "                   credentials = credentials)"
   ]
  },
  {
   "cell_type": "code",
   "execution_count": 10,
   "id": "2a5fadde",
   "metadata": {},
   "outputs": [],
   "source": [
    "# Select all transaction records for card_no's in sample table\n",
    "\n",
    "query_trans = (\n",
    "    \"SELECT * \"\n",
    "    \"FROM `evident-catcher-327918.wedge_master.transArchive*` \"\n",
    "    \"WHERE card_no IN (SELECT * FROM `evident-catcher-327918.wedge_master.card_sample`) \"\n",
    ")"
   ]
  },
  {
   "cell_type": "code",
   "execution_count": 11,
   "id": "725ff602",
   "metadata": {},
   "outputs": [],
   "source": [
    "# Query results directly to pandas data frame\n",
    "# Reference: https://cloud.google.com/bigquery/docs/bigquery-storage-python-pandas\n",
    "\n",
    "df_trans = (\n",
    "    client.query(query_trans)\n",
    "    .result()\n",
    "    .to_dataframe(\n",
    "        create_bqstorage_client=True,\n",
    "    )\n",
    ")"
   ]
  },
  {
   "cell_type": "code",
   "execution_count": 13,
   "id": "3f864797",
   "metadata": {},
   "outputs": [
    {
     "data": {
      "text/plain": [
       "710152"
      ]
     },
     "execution_count": 13,
     "metadata": {},
     "output_type": "execute_result"
    }
   ],
   "source": [
    "# Check to see if it worked\n",
    "\n",
    "len(df_trans)\n",
    "# df_trans.head()"
   ]
  },
  {
   "cell_type": "code",
   "execution_count": 14,
   "id": "ceb77758",
   "metadata": {},
   "outputs": [],
   "source": [
    "# Write data frame to .txt file\n",
    "\n",
    "file_name = 'trans_sample.txt'\n",
    "\n",
    "if os.path.isfile(file_name):\n",
    "    print(\"That file already exists. Delete it, or choose a new name.\")\n",
    "else:\n",
    "    df_trans.to_csv(file_name, header = True, index = False)\n"
   ]
  }
 ],
 "metadata": {
  "kernelspec": {
   "display_name": "Python 3",
   "language": "python",
   "name": "python3"
  },
  "language_info": {
   "codemirror_mode": {
    "name": "ipython",
    "version": 3
   },
   "file_extension": ".py",
   "mimetype": "text/x-python",
   "name": "python",
   "nbconvert_exporter": "python",
   "pygments_lexer": "ipython3",
   "version": "3.8.8"
  },
  "varInspector": {
   "cols": {
    "lenName": 16,
    "lenType": 16,
    "lenVar": 40
   },
   "kernels_config": {
    "python": {
     "delete_cmd_postfix": "",
     "delete_cmd_prefix": "del ",
     "library": "var_list.py",
     "varRefreshCmd": "print(var_dic_list())"
    },
    "r": {
     "delete_cmd_postfix": ") ",
     "delete_cmd_prefix": "rm(",
     "library": "var_list.r",
     "varRefreshCmd": "cat(var_dic_list()) "
    }
   },
   "position": {
    "height": "512.85px",
    "left": "1589px",
    "right": "20px",
    "top": "135px",
    "width": "265px"
   },
   "types_to_exclude": [
    "module",
    "function",
    "builtin_function_or_method",
    "instance",
    "_Feature"
   ],
   "window_display": true
  }
 },
 "nbformat": 4,
 "nbformat_minor": 5
}
